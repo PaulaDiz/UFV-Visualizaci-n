{
  "nbformat": 4,
  "nbformat_minor": 0,
  "metadata": {
    "colab": {
      "provenance": [],
      "authorship_tag": "ABX9TyMRzMuq3BLc25LfmEPfmy/t",
      "include_colab_link": true
    },
    "kernelspec": {
      "name": "python3",
      "display_name": "Python 3"
    },
    "language_info": {
      "name": "python"
    }
  },
  "cells": [
    {
      "cell_type": "markdown",
      "metadata": {
        "id": "view-in-github",
        "colab_type": "text"
      },
      "source": [
        "<a href=\"https://colab.research.google.com/github/PaulaDiz/UFV-Visualizaci-n/blob/main/Ejercicios%20de%20clase/Clase_2.ipynb\" target=\"_parent\"><img src=\"https://colab.research.google.com/assets/colab-badge.svg\" alt=\"Open In Colab\"/></a>"
      ]
    },
    {
      "cell_type": "code",
      "execution_count": 11,
      "metadata": {
        "colab": {
          "base_uri": "https://localhost:8080/"
        },
        "id": "H9_1RhiKS4nN",
        "outputId": "9120578d-851d-46b9-81c1-b39f1af4d4f2"
      },
      "outputs": [
        {
          "output_type": "stream",
          "name": "stdout",
          "text": [
            "         COUNTRY        SUBBRAND  YEAR  MONTH     SCENARIO FORECAST  \\\n",
            "0       Portugal     Lipton (L3)  2023     12  AI_forecast  AI_P02F   \n",
            "1  Great Britain     Lipton (L3)  2023     12  AI_forecast  AI_P10F   \n",
            "2          Spain  Pepsi Max (L3)  2023     12  AI_forecast  AI_P09F   \n",
            "3  Great Britain        7up (L3)  2024     12  AI_forecast  AI_P10F   \n",
            "4        Hungary     Lipton (L3)  2023      9  AI_forecast  AI_P03F   \n",
            "\n",
            "   FORECAST_YEAR         AMOUNT  \n",
            "0         2023.0  754356.237194  \n",
            "1         2023.0  560030.558029  \n",
            "2         2023.0   88501.980847  \n",
            "3         2023.0  363224.511516  \n",
            "4         2023.0  396176.120491  \n"
          ]
        }
      ],
      "source": [
        "# prompt: leer csv\n",
        "#columna SCENARIO\n",
        "#AI_forecast (no es real, se ha predicho)\n",
        "#actual (Es real, se ha realizado)\n",
        "\n",
        "#Columna FORECAST\n",
        "#Periodo -1 = mes que se ha hecho la venta\n",
        "#La F significa a finales\n",
        "\n",
        "import pandas as pd\n",
        "\n",
        "# Cargar el archivo CSV\n",
        "df = pd.read_csv(\"datos_ejercicio_ventas.csv\")\n",
        "\n",
        "# Mostrar las primeras 5 filas del dataframe\n",
        "print(df.head())\n"
      ]
    },
    {
      "cell_type": "markdown",
      "source": [
        "-Cual es el Tamano del Dataset?\n",
        "\n",
        "-Numero de Actuals y Forecast.\n",
        "\n",
        "-Horizontes de prediccion: cuantas predicciones a partir de un tiempo se realizan. Coger un pais un producto y es igual para todos.\n",
        "\n",
        "-Numero de paises y de productos.\n",
        "\n",
        "-Que historico de datos hay? (actuals y forecast): Para cada pais y para cada producto.\n",
        "\n",
        "-Forecast distintos"
      ],
      "metadata": {
        "id": "pwH0ZULRa2qA"
      }
    },
    {
      "cell_type": "code",
      "source": [
        "# Contar el número de filas en el DataFrame\n",
        "num_rows = len(df)\n",
        "print(f\"El dataset tiene {num_rows} filas.\")"
      ],
      "metadata": {
        "colab": {
          "base_uri": "https://localhost:8080/"
        },
        "id": "G5N3-M0JbKzE",
        "outputId": "d7d7f76b-3a5b-4619-fcb8-fdedd68a8b30"
      },
      "execution_count": 12,
      "outputs": [
        {
          "output_type": "stream",
          "name": "stdout",
          "text": [
            "El dataset tiene 18666 filas.\n"
          ]
        }
      ]
    },
    {
      "cell_type": "markdown",
      "source": [
        "-Horizontes de prediccion"
      ],
      "metadata": {
        "id": "ycva-v6ahGg6"
      }
    },
    {
      "cell_type": "code",
      "source": [
        "# prompt: ver el horizonte del dataset\n",
        "\n",
        "# Numero de Actuals y Forecast\n",
        "print(f\"Número de Actuals: {df['actual'].count()}\")\n",
        "print(f\"Número de Forecasts: {df['AI_forecast'].count()}\")\n",
        "\n",
        "# Horizontes de prediccion (Ejemplo: Pais = 'Spain', Product = 'Product_1')\n",
        "df_example = df[(df['country'] == 'Spain') & (df['product'] == 'Product_1')]\n",
        "horizon = df_example['Periodo'].max() - df_example['Periodo'].min()\n",
        "print(f\"Horizonte de predicción (Ejemplo Spain Product_1): {horizon}\")\n",
        "\n",
        "# Numero de paises y productos\n",
        "num_countries = df['country'].nunique()\n",
        "num_products = df['product'].nunique()\n",
        "print(f\"Número de países: {num_countries}\")\n",
        "print(f\"Número de productos: {num_products}\")\n",
        "\n",
        "# Historico de datos (actuals y forecast)\n",
        "min_periodo_actual = df['Periodo'][df['actual'].notna()].min()\n",
        "max_periodo_actual = df['Periodo'][df['actual'].notna()].max()\n",
        "min_periodo_forecast = df['Periodo'][df['AI_forecast'].notna()].min()\n",
        "max_periodo_forecast = df['Periodo'][df['AI_forecast'].notna()].max()\n",
        "print(f\"Período mínimo de datos reales (actuals): {min_periodo_actual}\")\n",
        "print(f\"Período máximo de datos reales (actuals): {max_periodo_actual}\")\n",
        "print(f\"Período mínimo de datos de forecast: {min_periodo_forecast}\")\n",
        "print(f\"Período máximo de datos de forecast: {max_periodo_forecast}\")\n",
        "\n",
        "# Forecast distintos\n",
        "num_distinct_forecasts = df['AI_forecast'].nunique()\n",
        "print(f\"Número de forecasts distintos: {num_distinct_forecasts}\")"
      ],
      "metadata": {
        "colab": {
          "base_uri": "https://localhost:8080/",
          "height": 547
        },
        "id": "37mDrM3fdIwr",
        "outputId": "e8767cf3-9676-4a62-817e-a5d714444b92"
      },
      "execution_count": 15,
      "outputs": [
        {
          "output_type": "error",
          "ename": "KeyError",
          "evalue": "'actual'",
          "traceback": [
            "\u001b[0;31m---------------------------------------------------------------------------\u001b[0m",
            "\u001b[0;31mKeyError\u001b[0m                                  Traceback (most recent call last)",
            "\u001b[0;32m/usr/local/lib/python3.10/dist-packages/pandas/core/indexes/base.py\u001b[0m in \u001b[0;36mget_loc\u001b[0;34m(self, key)\u001b[0m\n\u001b[1;32m   3804\u001b[0m         \u001b[0;32mtry\u001b[0m\u001b[0;34m:\u001b[0m\u001b[0;34m\u001b[0m\u001b[0;34m\u001b[0m\u001b[0m\n\u001b[0;32m-> 3805\u001b[0;31m             \u001b[0;32mreturn\u001b[0m \u001b[0mself\u001b[0m\u001b[0;34m.\u001b[0m\u001b[0m_engine\u001b[0m\u001b[0;34m.\u001b[0m\u001b[0mget_loc\u001b[0m\u001b[0;34m(\u001b[0m\u001b[0mcasted_key\u001b[0m\u001b[0;34m)\u001b[0m\u001b[0;34m\u001b[0m\u001b[0;34m\u001b[0m\u001b[0m\n\u001b[0m\u001b[1;32m   3806\u001b[0m         \u001b[0;32mexcept\u001b[0m \u001b[0mKeyError\u001b[0m \u001b[0;32mas\u001b[0m \u001b[0merr\u001b[0m\u001b[0;34m:\u001b[0m\u001b[0;34m\u001b[0m\u001b[0;34m\u001b[0m\u001b[0m\n",
            "\u001b[0;32mindex.pyx\u001b[0m in \u001b[0;36mpandas._libs.index.IndexEngine.get_loc\u001b[0;34m()\u001b[0m\n",
            "\u001b[0;32mindex.pyx\u001b[0m in \u001b[0;36mpandas._libs.index.IndexEngine.get_loc\u001b[0;34m()\u001b[0m\n",
            "\u001b[0;32mpandas/_libs/hashtable_class_helper.pxi\u001b[0m in \u001b[0;36mpandas._libs.hashtable.PyObjectHashTable.get_item\u001b[0;34m()\u001b[0m\n",
            "\u001b[0;32mpandas/_libs/hashtable_class_helper.pxi\u001b[0m in \u001b[0;36mpandas._libs.hashtable.PyObjectHashTable.get_item\u001b[0;34m()\u001b[0m\n",
            "\u001b[0;31mKeyError\u001b[0m: 'actual'",
            "\nThe above exception was the direct cause of the following exception:\n",
            "\u001b[0;31mKeyError\u001b[0m                                  Traceback (most recent call last)",
            "\u001b[0;32m<ipython-input-15-9d374c0b71fa>\u001b[0m in \u001b[0;36m<cell line: 4>\u001b[0;34m()\u001b[0m\n\u001b[1;32m      2\u001b[0m \u001b[0;34m\u001b[0m\u001b[0m\n\u001b[1;32m      3\u001b[0m \u001b[0;31m# Numero de Actuals y Forecast\u001b[0m\u001b[0;34m\u001b[0m\u001b[0;34m\u001b[0m\u001b[0m\n\u001b[0;32m----> 4\u001b[0;31m \u001b[0mprint\u001b[0m\u001b[0;34m(\u001b[0m\u001b[0;34mf\"Número de Actuals: {df['actual'].count()}\"\u001b[0m\u001b[0;34m)\u001b[0m\u001b[0;34m\u001b[0m\u001b[0;34m\u001b[0m\u001b[0m\n\u001b[0m\u001b[1;32m      5\u001b[0m \u001b[0mprint\u001b[0m\u001b[0;34m(\u001b[0m\u001b[0;34mf\"Número de Forecasts: {df['AI_forecast'].count()}\"\u001b[0m\u001b[0;34m)\u001b[0m\u001b[0;34m\u001b[0m\u001b[0;34m\u001b[0m\u001b[0m\n\u001b[1;32m      6\u001b[0m \u001b[0;34m\u001b[0m\u001b[0m\n",
            "\u001b[0;32m/usr/local/lib/python3.10/dist-packages/pandas/core/frame.py\u001b[0m in \u001b[0;36m__getitem__\u001b[0;34m(self, key)\u001b[0m\n\u001b[1;32m   4100\u001b[0m             \u001b[0;32mif\u001b[0m \u001b[0mself\u001b[0m\u001b[0;34m.\u001b[0m\u001b[0mcolumns\u001b[0m\u001b[0;34m.\u001b[0m\u001b[0mnlevels\u001b[0m \u001b[0;34m>\u001b[0m \u001b[0;36m1\u001b[0m\u001b[0;34m:\u001b[0m\u001b[0;34m\u001b[0m\u001b[0;34m\u001b[0m\u001b[0m\n\u001b[1;32m   4101\u001b[0m                 \u001b[0;32mreturn\u001b[0m \u001b[0mself\u001b[0m\u001b[0;34m.\u001b[0m\u001b[0m_getitem_multilevel\u001b[0m\u001b[0;34m(\u001b[0m\u001b[0mkey\u001b[0m\u001b[0;34m)\u001b[0m\u001b[0;34m\u001b[0m\u001b[0;34m\u001b[0m\u001b[0m\n\u001b[0;32m-> 4102\u001b[0;31m             \u001b[0mindexer\u001b[0m \u001b[0;34m=\u001b[0m \u001b[0mself\u001b[0m\u001b[0;34m.\u001b[0m\u001b[0mcolumns\u001b[0m\u001b[0;34m.\u001b[0m\u001b[0mget_loc\u001b[0m\u001b[0;34m(\u001b[0m\u001b[0mkey\u001b[0m\u001b[0;34m)\u001b[0m\u001b[0;34m\u001b[0m\u001b[0;34m\u001b[0m\u001b[0m\n\u001b[0m\u001b[1;32m   4103\u001b[0m             \u001b[0;32mif\u001b[0m \u001b[0mis_integer\u001b[0m\u001b[0;34m(\u001b[0m\u001b[0mindexer\u001b[0m\u001b[0;34m)\u001b[0m\u001b[0;34m:\u001b[0m\u001b[0;34m\u001b[0m\u001b[0;34m\u001b[0m\u001b[0m\n\u001b[1;32m   4104\u001b[0m                 \u001b[0mindexer\u001b[0m \u001b[0;34m=\u001b[0m \u001b[0;34m[\u001b[0m\u001b[0mindexer\u001b[0m\u001b[0;34m]\u001b[0m\u001b[0;34m\u001b[0m\u001b[0;34m\u001b[0m\u001b[0m\n",
            "\u001b[0;32m/usr/local/lib/python3.10/dist-packages/pandas/core/indexes/base.py\u001b[0m in \u001b[0;36mget_loc\u001b[0;34m(self, key)\u001b[0m\n\u001b[1;32m   3810\u001b[0m             ):\n\u001b[1;32m   3811\u001b[0m                 \u001b[0;32mraise\u001b[0m \u001b[0mInvalidIndexError\u001b[0m\u001b[0;34m(\u001b[0m\u001b[0mkey\u001b[0m\u001b[0;34m)\u001b[0m\u001b[0;34m\u001b[0m\u001b[0;34m\u001b[0m\u001b[0m\n\u001b[0;32m-> 3812\u001b[0;31m             \u001b[0;32mraise\u001b[0m \u001b[0mKeyError\u001b[0m\u001b[0;34m(\u001b[0m\u001b[0mkey\u001b[0m\u001b[0;34m)\u001b[0m \u001b[0;32mfrom\u001b[0m \u001b[0merr\u001b[0m\u001b[0;34m\u001b[0m\u001b[0;34m\u001b[0m\u001b[0m\n\u001b[0m\u001b[1;32m   3813\u001b[0m         \u001b[0;32mexcept\u001b[0m \u001b[0mTypeError\u001b[0m\u001b[0;34m:\u001b[0m\u001b[0;34m\u001b[0m\u001b[0;34m\u001b[0m\u001b[0m\n\u001b[1;32m   3814\u001b[0m             \u001b[0;31m# If we have a listlike key, _check_indexing_error will raise\u001b[0m\u001b[0;34m\u001b[0m\u001b[0;34m\u001b[0m\u001b[0m\n",
            "\u001b[0;31mKeyError\u001b[0m: 'actual'"
          ]
        }
      ]
    },
    {
      "cell_type": "markdown",
      "source": [
        "-Numero de paises y de productos."
      ],
      "metadata": {
        "id": "S2dFdoQYfQbl"
      }
    },
    {
      "cell_type": "code",
      "source": [
        "\n",
        "num_countries = df['COUNTRY'].nunique()\n",
        "num_products = df['SUBBRAND'].nunique()\n",
        "print(f\"Número de países: {num_countries}\")\n",
        "print(f\"Número de productos: {num_products}\")\n",
        "\n"
      ],
      "metadata": {
        "colab": {
          "base_uri": "https://localhost:8080/"
        },
        "id": "fD67M5p_d_A9",
        "outputId": "77981baa-3b44-4495-a397-b6835d5c51a9"
      },
      "execution_count": 18,
      "outputs": [
        {
          "output_type": "stream",
          "name": "stdout",
          "text": [
            "Número de países: 9\n",
            "Número de productos: 6\n"
          ]
        }
      ]
    },
    {
      "cell_type": "markdown",
      "source": [
        "Numero de Actuals y Forecast."
      ],
      "metadata": {
        "id": "ib3sLBY0fe1c"
      }
    },
    {
      "cell_type": "code",
      "source": [
        "\n",
        "valor_concreto = 'AI_forecast'  #valor que quiero encontrar\n",
        "conteo = df['SCENARIO'].value_counts()[valor_concreto] # contar las veces que se repite en la columna\n",
        "print(f\"El valor '{valor_concreto}' aparece {conteo} veces en la columna 'SCENARIO'.\")\n",
        "\n",
        "\n",
        "valor_concreto = 'actual' # valor que quiero encontrar\n",
        "conteo = df['SCENARIO'].value_counts()[valor_concreto]# contar las veces que se repite en la columna\n",
        "print(f\"El valor '{valor_concreto}' aparece {conteo} veces en la columna 'SCENARIO'.\")"
      ],
      "metadata": {
        "colab": {
          "base_uri": "https://localhost:8080/"
        },
        "id": "0twGVsPPfgUW",
        "outputId": "92eece42-40da-4274-e6d5-3e02fbdf3a15"
      },
      "execution_count": 22,
      "outputs": [
        {
          "output_type": "stream",
          "name": "stdout",
          "text": [
            "El valor 'AI_forecast' aparece 17766 veces en la columna 'SCENARIO'.\n",
            "El valor 'actual' aparece 900 veces en la columna 'SCENARIO'.\n"
          ]
        }
      ]
    },
    {
      "cell_type": "markdown",
      "source": [
        "-Forecast distintos"
      ],
      "metadata": {
        "id": "-UFwFXH-gc-p"
      }
    },
    {
      "cell_type": "code",
      "source": [
        "num_FORECAST = df['FORECAST'].nunique()\n",
        "print(f\"Hay'{num_FORECAST}' valores diferentes en la columna 'FORECAST'.\")"
      ],
      "metadata": {
        "colab": {
          "base_uri": "https://localhost:8080/"
        },
        "id": "Q2s6_-MkgdTM",
        "outputId": "61f7bfe2-f6c6-43d6-cc7b-2dce4659fd72"
      },
      "execution_count": 24,
      "outputs": [
        {
          "output_type": "stream",
          "name": "stdout",
          "text": [
            "Hay'12' valores diferentes en la columna 'FORECAST'.\n"
          ]
        }
      ]
    }
  ]
}